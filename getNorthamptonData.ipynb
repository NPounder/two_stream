{
 "cells": [
  {
   "cell_type": "code",
   "execution_count": 1,
   "metadata": {
    "collapsed": false
   },
   "outputs": [
    {
     "name": "stdout",
     "output_type": "stream",
     "text": [
      "2016\n"
     ]
    }
   ],
   "source": [
    "from get_albedo import *\n",
    "import yaml\n",
    "\n",
    "\n",
    "field = 'lower_farm_n'\n",
    "\n",
    "with open('fields.yaml', 'r') as f:\n",
    "    fields = yaml.load(f)\n",
    "\n",
    "name = \"Northampton_{}\".format(fields[field]['name'])\n",
    "lat = fields[field]['lat']\n",
    "lon = fields[field]['lon']\n",
    "\n",
    "\n",
    "alldata = []\n",
    "#obs = Observations(\"albedo_allfields.sql\")\n",
    "obs = Observations(\"test.sql\")\n",
    "for year in xrange(2016, 2017):\n",
    "    print year\n",
    "    x = obs.query(year, name, lat, lon)\n",
    "    alldata.append(x)"
   ]
  },
  {
   "cell_type": "code",
   "execution_count": 21,
   "metadata": {
    "collapsed": false
   },
   "outputs": [
    {
     "data": {
      "text/plain": [
       "datetime.time(15, 43, 19, 843182)"
      ]
     },
     "execution_count": 21,
     "metadata": {},
     "output_type": "execute_result"
    }
   ],
   "source": [
    "import datetime as dt\n",
    "\n",
    "now = dt.datetime.now()\n",
    "\n",
    "now.timetz()\n"
   ]
  },
  {
   "cell_type": "code",
   "execution_count": 25,
   "metadata": {
    "collapsed": false
   },
   "outputs": [
    {
     "name": "stdout",
     "output_type": "stream",
     "text": [
      "<type 'numpy.int64'>\n"
     ]
    }
   ],
   "source": [
    "print type(x.doy[0])\n",
    "\n"
   ]
  }
 ],
 "metadata": {
  "kernelspec": {
   "display_name": "Python 2",
   "language": "python",
   "name": "python2"
  },
  "language_info": {
   "codemirror_mode": {
    "name": "ipython",
    "version": 2
   },
   "file_extension": ".py",
   "mimetype": "text/x-python",
   "name": "python",
   "nbconvert_exporter": "python",
   "pygments_lexer": "ipython2",
   "version": "2.7.6"
  }
 },
 "nbformat": 4,
 "nbformat_minor": 0
}
